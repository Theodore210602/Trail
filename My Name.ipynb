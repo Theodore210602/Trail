{
 "cells": [
  {
   "cell_type": "markdown",
   "id": "dc3555fd-a7b7-4e14-beeb-044fdbe462d7",
   "metadata": {},
   "source": [
    "My Name is Theodore Shaun Thomas"
   ]
  },
  {
   "cell_type": "code",
   "execution_count": 5,
   "id": "36e6914f-87d4-44fc-83a4-2cbaf55356f9",
   "metadata": {},
   "outputs": [
    {
     "data": {
      "text/plain": [
       "520.0"
      ]
     },
     "execution_count": 5,
     "metadata": {},
     "output_type": "execute_result"
    }
   ],
   "source": [
    "100/5*25+20"
   ]
  },
  {
   "cell_type": "code",
   "execution_count": null,
   "id": "d45fec7c-3d01-4b72-b963-12f7b92a7ace",
   "metadata": {},
   "outputs": [],
   "source": []
  }
 ],
 "metadata": {
  "kernelspec": {
   "display_name": "Python",
   "language": "python",
   "name": "conda-env-python-py"
  },
  "language_info": {
   "codemirror_mode": {
    "name": "ipython",
    "version": 3
   },
   "file_extension": ".py",
   "mimetype": "text/x-python",
   "name": "python",
   "nbconvert_exporter": "python",
   "pygments_lexer": "ipython3",
   "version": "3.6.13"
  }
 },
 "nbformat": 4,
 "nbformat_minor": 5
}
